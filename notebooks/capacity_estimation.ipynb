{
 "cells": [
  {
   "cell_type": "code",
   "execution_count": 48,
   "metadata": {},
   "outputs": [],
   "source": [
    "# %load ../scripts/f_common_script.py\n",
    "import pandas as pd\n",
    "import numpy as np\n",
    "import matplotlib.pyplot as plt\n",
    "from sklearn.model_selection import train_test_split\n",
    "from sklearn.metrics import r2_score\n",
    "from sklearn.ensemble import RandomForestRegressor\n",
    "from xgboost import XGBRegressor\n",
    "from sklearn.linear_model import LinearRegression\n",
    "import re\n",
    "import scienceplots\n",
    "from matplotlib.colors import TwoSlopeNorm\n",
    "\n",
    "\n",
    "# Section:Global variables\n",
    "my_seed = 42\n",
    "np.random.seed(my_seed)\n",
    "\n",
    "\n",
    "# Section:Functions for plotting\n",
    "def add_trendline(x, y, ax):\n",
    "    # Sort x and y values to ensure a continuous line\n",
    "    # convert x and y to numpy array\n",
    "    x = np.array(x)\n",
    "    y = np.array(y)\n",
    "    sort_idx = np.argsort(x)\n",
    "    x_sorted = x[sort_idx]\n",
    "    y_sorted = y[sort_idx]\n",
    "\n",
    "    # Fit polynomial and create trendline\n",
    "    z = np.polyfit(x_sorted, y_sorted, 5)\n",
    "    p = np.poly1d(z)\n",
    "    ax.plot(x_sorted, p(x_sorted), \"--\", color='red', linewidth=2)\n",
    "\n",
    "\n",
    "def plot_actual_vs_predicted(y_test, y_pred, fig_name='../figs/actual_vs_predicted.pdf') -> None:\n",
    "    # plot the actual vs predicted, with a line of y=x\n",
    "    plt.style.use(['science'])\n",
    "    fig, ax = plt.subplots(figsize=(6, 4))\n",
    "    ax.scatter(y_test, y_pred)\n",
    "    ax.plot([y_test.min(), y_test.max()], [\n",
    "        y_test.min(), y_test.max()], 'k-', lw=2)\n",
    "    add_trendline(y_test, y_pred, ax)\n",
    "    ax.set_xlabel('Actual')\n",
    "    ax.set_ylabel('Predicted')\n",
    "    ax.set_title('Actual vs Predicted')\n",
    "    plt.savefig(fig_name, format='pdf')\n",
    "    plt.show()\n",
    "\n",
    "# check the 'normalized_total_pv_gen_correct' during date 2022-07-01 to 2022-07-31\n",
    "\n",
    "\n",
    "def df_common_xylabel_plot(df, y, doy_start=0, doy_end=366, year=[2017, 2018, 2019], xlabel='Datetime', ylabel=\"example ylabel\", layout=(7, 4), subplots=True, figsize=(20, 20)):\n",
    "    # make a list to plot, excluding the columns of datetime and Timestamp\n",
    "    axes = df[(df['doy'] >= doy_start) & (df['doy'] <= doy_end) & (df['year'].isin(year))].plot(\n",
    "        x='datetime', y=y, subplots=subplots, figsize=figsize, layout=layout, sharex=True, xlabel='')\n",
    "    if subplots == True:\n",
    "        fig = axes[0, 0].get_figure()\n",
    "    else:\n",
    "        fig = axes.get_figure()  # to avoid the problem of \"'Axes' object is not subscriptable\"\n",
    "    # add a common y label\n",
    "    fig.text(0.08, 0.5, ylabel, va='center', rotation='vertical', size=20)\n",
    "    # add a common x label\n",
    "    fig.text(0.5, 0.0, xlabel, ha='center', size=20)\n"
   ]
  },
  {
   "cell_type": "markdown",
   "metadata": {},
   "source": [
    "# Load data"
   ]
  },
  {
   "cell_type": "code",
   "execution_count": 49,
   "metadata": {},
   "outputs": [],
   "source": [
    "# # load the ready-to-use data\n",
    "# f_name = '../data/nl/ams_data_ready_to_use.csv'\n",
    "f_name='../data/nl/ams_data_merged_preprocessed.csv'\n",
    "f_name_pv_capacity = '../data/nl/ams_pv_capacity_from_pv_profiles.csv'\n",
    "df = pd.read_csv(f_name)\n",
    "df_pv_capacity = pd.read_csv(f_name_pv_capacity)"
   ]
  },
  {
   "cell_type": "code",
   "execution_count": 50,
   "metadata": {},
   "outputs": [],
   "source": [
    "# split the df_pv_capacity into part 1 and part 2, the first 10 household are part 1, the rest are part 2\n",
    "df_pv_capacity_part1=df_pv_capacity.drop(df_pv_capacity.index[10:])\n",
    "df_pv_capacity_part2=df_pv_capacity.drop(df_pv_capacity.index[:10])"
   ]
  },
  {
   "cell_type": "code",
   "execution_count": 51,
   "metadata": {},
   "outputs": [
    {
     "data": {
      "text/plain": [
       "(10, 2)"
      ]
     },
     "execution_count": 51,
     "metadata": {},
     "output_type": "execute_result"
    }
   ],
   "source": [
    "df_pv_capacity_part1.shape"
   ]
  },
  {
   "cell_type": "code",
   "execution_count": 52,
   "metadata": {},
   "outputs": [],
   "source": [
    "f_name1='../data/nl/ams_data_merged_preprocessed_part1.csv'\n",
    "df_part1=pd.read_csv(f_name1)\n",
    "f_name2='../data/nl/ams_data_merged_preprocessed_part2.csv'\n",
    "df_part2=pd.read_csv(f_name2)"
   ]
  },
  {
   "cell_type": "code",
   "execution_count": 53,
   "metadata": {},
   "outputs": [
    {
     "data": {
      "text/html": [
       "<div>\n",
       "<style scoped>\n",
       "    .dataframe tbody tr th:only-of-type {\n",
       "        vertical-align: middle;\n",
       "    }\n",
       "\n",
       "    .dataframe tbody tr th {\n",
       "        vertical-align: top;\n",
       "    }\n",
       "\n",
       "    .dataframe thead th {\n",
       "        text-align: right;\n",
       "    }\n",
       "</style>\n",
       "<table border=\"1\" class=\"dataframe\">\n",
       "  <thead>\n",
       "    <tr style=\"text-align: right;\">\n",
       "      <th></th>\n",
       "      <th>Unnamed: 0</th>\n",
       "      <th>0</th>\n",
       "    </tr>\n",
       "  </thead>\n",
       "  <tbody>\n",
       "    <tr>\n",
       "      <th>0</th>\n",
       "      <td>1011W</td>\n",
       "      <td>2963.038537</td>\n",
       "    </tr>\n",
       "    <tr>\n",
       "      <th>1</th>\n",
       "      <td>1954W</td>\n",
       "      <td>2819.092155</td>\n",
       "    </tr>\n",
       "    <tr>\n",
       "      <th>2</th>\n",
       "      <td>1955A</td>\n",
       "      <td>2825.082006</td>\n",
       "    </tr>\n",
       "    <tr>\n",
       "      <th>3</th>\n",
       "      <td>1964J</td>\n",
       "      <td>2770.849033</td>\n",
       "    </tr>\n",
       "    <tr>\n",
       "      <th>4</th>\n",
       "      <td>2053G</td>\n",
       "      <td>3409.944232</td>\n",
       "    </tr>\n",
       "    <tr>\n",
       "      <th>5</th>\n",
       "      <td>2442E</td>\n",
       "      <td>1446.058540</td>\n",
       "    </tr>\n",
       "    <tr>\n",
       "      <th>6</th>\n",
       "      <td>3070L</td>\n",
       "      <td>2465.613342</td>\n",
       "    </tr>\n",
       "    <tr>\n",
       "      <th>7</th>\n",
       "      <td>3517V</td>\n",
       "      <td>879.807524</td>\n",
       "    </tr>\n",
       "    <tr>\n",
       "      <th>8</th>\n",
       "      <td>3660D</td>\n",
       "      <td>2857.514911</td>\n",
       "    </tr>\n",
       "    <tr>\n",
       "      <th>9</th>\n",
       "      <td>3726A</td>\n",
       "      <td>3065.970353</td>\n",
       "    </tr>\n",
       "    <tr>\n",
       "      <th>10</th>\n",
       "      <td>3932W</td>\n",
       "      <td>981.130065</td>\n",
       "    </tr>\n",
       "    <tr>\n",
       "      <th>11</th>\n",
       "      <td>4451M</td>\n",
       "      <td>5192.548449</td>\n",
       "    </tr>\n",
       "    <tr>\n",
       "      <th>12</th>\n",
       "      <td>5427W</td>\n",
       "      <td>1374.035231</td>\n",
       "    </tr>\n",
       "    <tr>\n",
       "      <th>13</th>\n",
       "      <td>5815T</td>\n",
       "      <td>2848.621677</td>\n",
       "    </tr>\n",
       "    <tr>\n",
       "      <th>14</th>\n",
       "      <td>7426U</td>\n",
       "      <td>934.936854</td>\n",
       "    </tr>\n",
       "    <tr>\n",
       "      <th>15</th>\n",
       "      <td>7679U</td>\n",
       "      <td>2871.897837</td>\n",
       "    </tr>\n",
       "    <tr>\n",
       "      <th>16</th>\n",
       "      <td>7710F</td>\n",
       "      <td>1574.498716</td>\n",
       "    </tr>\n",
       "    <tr>\n",
       "      <th>17</th>\n",
       "      <td>8319Q</td>\n",
       "      <td>2803.467388</td>\n",
       "    </tr>\n",
       "    <tr>\n",
       "      <th>18</th>\n",
       "      <td>9248C</td>\n",
       "      <td>965.216083</td>\n",
       "    </tr>\n",
       "    <tr>\n",
       "      <th>19</th>\n",
       "      <td>9370J</td>\n",
       "      <td>2554.771613</td>\n",
       "    </tr>\n",
       "    <tr>\n",
       "      <th>20</th>\n",
       "      <td>9991J</td>\n",
       "      <td>5900.228823</td>\n",
       "    </tr>\n",
       "  </tbody>\n",
       "</table>\n",
       "</div>"
      ],
      "text/plain": [
       "   Unnamed: 0            0\n",
       "0       1011W  2963.038537\n",
       "1       1954W  2819.092155\n",
       "2       1955A  2825.082006\n",
       "3       1964J  2770.849033\n",
       "4       2053G  3409.944232\n",
       "5       2442E  1446.058540\n",
       "6       3070L  2465.613342\n",
       "7       3517V   879.807524\n",
       "8       3660D  2857.514911\n",
       "9       3726A  3065.970353\n",
       "10      3932W   981.130065\n",
       "11      4451M  5192.548449\n",
       "12      5427W  1374.035231\n",
       "13      5815T  2848.621677\n",
       "14      7426U   934.936854\n",
       "15      7679U  2871.897837\n",
       "16      7710F  1574.498716\n",
       "17      8319Q  2803.467388\n",
       "18      9248C   965.216083\n",
       "19      9370J  2554.771613\n",
       "20      9991J  5900.228823"
      ]
     },
     "execution_count": 53,
     "metadata": {},
     "output_type": "execute_result"
    }
   ],
   "source": [
    "df_pv_capacity"
   ]
  },
  {
   "cell_type": "code",
   "execution_count": 54,
   "metadata": {},
   "outputs": [
    {
     "data": {
      "text/html": [
       "<div>\n",
       "<style scoped>\n",
       "    .dataframe tbody tr th:only-of-type {\n",
       "        vertical-align: middle;\n",
       "    }\n",
       "\n",
       "    .dataframe tbody tr th {\n",
       "        vertical-align: top;\n",
       "    }\n",
       "\n",
       "    .dataframe thead th {\n",
       "        text-align: right;\n",
       "    }\n",
       "</style>\n",
       "<table border=\"1\" class=\"dataframe\">\n",
       "  <thead>\n",
       "    <tr style=\"text-align: right;\">\n",
       "      <th></th>\n",
       "      <th>household</th>\n",
       "      <th>capacity</th>\n",
       "    </tr>\n",
       "  </thead>\n",
       "  <tbody>\n",
       "    <tr>\n",
       "      <th>0</th>\n",
       "      <td>1011W</td>\n",
       "      <td>2963.038537</td>\n",
       "    </tr>\n",
       "    <tr>\n",
       "      <th>1</th>\n",
       "      <td>1954W</td>\n",
       "      <td>2819.092155</td>\n",
       "    </tr>\n",
       "    <tr>\n",
       "      <th>2</th>\n",
       "      <td>1955A</td>\n",
       "      <td>2825.082006</td>\n",
       "    </tr>\n",
       "    <tr>\n",
       "      <th>3</th>\n",
       "      <td>1964J</td>\n",
       "      <td>2770.849033</td>\n",
       "    </tr>\n",
       "    <tr>\n",
       "      <th>4</th>\n",
       "      <td>2053G</td>\n",
       "      <td>3409.944232</td>\n",
       "    </tr>\n",
       "    <tr>\n",
       "      <th>5</th>\n",
       "      <td>2442E</td>\n",
       "      <td>1446.058540</td>\n",
       "    </tr>\n",
       "    <tr>\n",
       "      <th>6</th>\n",
       "      <td>3070L</td>\n",
       "      <td>2465.613342</td>\n",
       "    </tr>\n",
       "    <tr>\n",
       "      <th>7</th>\n",
       "      <td>3517V</td>\n",
       "      <td>879.807524</td>\n",
       "    </tr>\n",
       "    <tr>\n",
       "      <th>8</th>\n",
       "      <td>3660D</td>\n",
       "      <td>2857.514911</td>\n",
       "    </tr>\n",
       "    <tr>\n",
       "      <th>9</th>\n",
       "      <td>3726A</td>\n",
       "      <td>3065.970353</td>\n",
       "    </tr>\n",
       "    <tr>\n",
       "      <th>10</th>\n",
       "      <td>3932W</td>\n",
       "      <td>981.130065</td>\n",
       "    </tr>\n",
       "    <tr>\n",
       "      <th>11</th>\n",
       "      <td>4451M</td>\n",
       "      <td>5192.548449</td>\n",
       "    </tr>\n",
       "    <tr>\n",
       "      <th>12</th>\n",
       "      <td>5427W</td>\n",
       "      <td>1374.035231</td>\n",
       "    </tr>\n",
       "    <tr>\n",
       "      <th>13</th>\n",
       "      <td>5815T</td>\n",
       "      <td>2848.621677</td>\n",
       "    </tr>\n",
       "    <tr>\n",
       "      <th>14</th>\n",
       "      <td>7426U</td>\n",
       "      <td>934.936854</td>\n",
       "    </tr>\n",
       "    <tr>\n",
       "      <th>15</th>\n",
       "      <td>7679U</td>\n",
       "      <td>2871.897837</td>\n",
       "    </tr>\n",
       "    <tr>\n",
       "      <th>16</th>\n",
       "      <td>7710F</td>\n",
       "      <td>1574.498716</td>\n",
       "    </tr>\n",
       "    <tr>\n",
       "      <th>17</th>\n",
       "      <td>8319Q</td>\n",
       "      <td>2803.467388</td>\n",
       "    </tr>\n",
       "    <tr>\n",
       "      <th>18</th>\n",
       "      <td>9248C</td>\n",
       "      <td>965.216083</td>\n",
       "    </tr>\n",
       "    <tr>\n",
       "      <th>19</th>\n",
       "      <td>9370J</td>\n",
       "      <td>2554.771613</td>\n",
       "    </tr>\n",
       "    <tr>\n",
       "      <th>20</th>\n",
       "      <td>9991J</td>\n",
       "      <td>5900.228823</td>\n",
       "    </tr>\n",
       "  </tbody>\n",
       "</table>\n",
       "</div>"
      ],
      "text/plain": [
       "   household     capacity\n",
       "0      1011W  2963.038537\n",
       "1      1954W  2819.092155\n",
       "2      1955A  2825.082006\n",
       "3      1964J  2770.849033\n",
       "4      2053G  3409.944232\n",
       "5      2442E  1446.058540\n",
       "6      3070L  2465.613342\n",
       "7      3517V   879.807524\n",
       "8      3660D  2857.514911\n",
       "9      3726A  3065.970353\n",
       "10     3932W   981.130065\n",
       "11     4451M  5192.548449\n",
       "12     5427W  1374.035231\n",
       "13     5815T  2848.621677\n",
       "14     7426U   934.936854\n",
       "15     7679U  2871.897837\n",
       "16     7710F  1574.498716\n",
       "17     8319Q  2803.467388\n",
       "18     9248C   965.216083\n",
       "19     9370J  2554.771613\n",
       "20     9991J  5900.228823"
      ]
     },
     "execution_count": 54,
     "metadata": {},
     "output_type": "execute_result"
    }
   ],
   "source": [
    "# rename the first column of df_pv_capacity to 'household', second to 'capacity'\n",
    "df_pv_capacity.rename(columns={df_pv_capacity.columns[0]: 'household', df_pv_capacity.columns[1]: 'capacity'}, inplace=True)\n",
    "df_pv_capacity\n"
   ]
  },
  {
   "cell_type": "code",
   "execution_count": 55,
   "metadata": {},
   "outputs": [
    {
     "data": {
      "text/html": [
       "<div>\n",
       "<style scoped>\n",
       "    .dataframe tbody tr th:only-of-type {\n",
       "        vertical-align: middle;\n",
       "    }\n",
       "\n",
       "    .dataframe tbody tr th {\n",
       "        vertical-align: top;\n",
       "    }\n",
       "\n",
       "    .dataframe thead th {\n",
       "        text-align: right;\n",
       "    }\n",
       "</style>\n",
       "<table border=\"1\" class=\"dataframe\">\n",
       "  <thead>\n",
       "    <tr style=\"text-align: right;\">\n",
       "      <th></th>\n",
       "      <th>household</th>\n",
       "      <th>capacity</th>\n",
       "    </tr>\n",
       "  </thead>\n",
       "  <tbody>\n",
       "    <tr>\n",
       "      <th>10</th>\n",
       "      <td>3932W</td>\n",
       "      <td>981.130065</td>\n",
       "    </tr>\n",
       "    <tr>\n",
       "      <th>11</th>\n",
       "      <td>4451M</td>\n",
       "      <td>5192.548449</td>\n",
       "    </tr>\n",
       "    <tr>\n",
       "      <th>12</th>\n",
       "      <td>5427W</td>\n",
       "      <td>1374.035231</td>\n",
       "    </tr>\n",
       "    <tr>\n",
       "      <th>13</th>\n",
       "      <td>5815T</td>\n",
       "      <td>2848.621677</td>\n",
       "    </tr>\n",
       "    <tr>\n",
       "      <th>14</th>\n",
       "      <td>7426U</td>\n",
       "      <td>934.936854</td>\n",
       "    </tr>\n",
       "    <tr>\n",
       "      <th>15</th>\n",
       "      <td>7679U</td>\n",
       "      <td>2871.897837</td>\n",
       "    </tr>\n",
       "    <tr>\n",
       "      <th>16</th>\n",
       "      <td>7710F</td>\n",
       "      <td>1574.498716</td>\n",
       "    </tr>\n",
       "    <tr>\n",
       "      <th>17</th>\n",
       "      <td>8319Q</td>\n",
       "      <td>2803.467388</td>\n",
       "    </tr>\n",
       "    <tr>\n",
       "      <th>18</th>\n",
       "      <td>9248C</td>\n",
       "      <td>965.216083</td>\n",
       "    </tr>\n",
       "    <tr>\n",
       "      <th>19</th>\n",
       "      <td>9370J</td>\n",
       "      <td>2554.771613</td>\n",
       "    </tr>\n",
       "    <tr>\n",
       "      <th>20</th>\n",
       "      <td>9991J</td>\n",
       "      <td>5900.228823</td>\n",
       "    </tr>\n",
       "  </tbody>\n",
       "</table>\n",
       "</div>"
      ],
      "text/plain": [
       "   household     capacity\n",
       "10     3932W   981.130065\n",
       "11     4451M  5192.548449\n",
       "12     5427W  1374.035231\n",
       "13     5815T  2848.621677\n",
       "14     7426U   934.936854\n",
       "15     7679U  2871.897837\n",
       "16     7710F  1574.498716\n",
       "17     8319Q  2803.467388\n",
       "18     9248C   965.216083\n",
       "19     9370J  2554.771613\n",
       "20     9991J  5900.228823"
      ]
     },
     "execution_count": 55,
     "metadata": {},
     "output_type": "execute_result"
    }
   ],
   "source": [
    "df_pv_capacity_part1.rename(columns={df_pv_capacity_part1.columns[0]: 'household', df_pv_capacity_part1.columns[1]: 'capacity'}, inplace=True)\n",
    "df_pv_capacity_part2.rename(columns={df_pv_capacity_part2.columns[0]: 'household', df_pv_capacity_part2.columns[1]: 'capacity'}, inplace=True)\n",
    "df_pv_capacity_part1\n",
    "df_pv_capacity_part2"
   ]
  },
  {
   "cell_type": "code",
   "execution_count": 56,
   "metadata": {},
   "outputs": [],
   "source": [
    "# drop the columns of 9506H, because there is no solar panels.\n",
    "# drop the columns of 4226R, because there is weird data in 2019 March.\n",
    "# drop the column of 7743P, for the high missing rate of 0.948231.\n",
    "# drop the column of 7099P because none of its data is in summer.\n",
    "# drop the columns of 3308S and 2108P, because they seem to have some demand response strategies.\n",
    "households_to_remove = ['9506H', '4226R', '7743P', '7099P', '3307S', '2108P']\n",
    "df_pv_capacity = df_pv_capacity[~df_pv_capacity['household'].isin(households_to_remove)]"
   ]
  },
  {
   "cell_type": "code",
   "execution_count": 57,
   "metadata": {},
   "outputs": [
    {
     "data": {
      "text/html": [
       "<div>\n",
       "<style scoped>\n",
       "    .dataframe tbody tr th:only-of-type {\n",
       "        vertical-align: middle;\n",
       "    }\n",
       "\n",
       "    .dataframe tbody tr th {\n",
       "        vertical-align: top;\n",
       "    }\n",
       "\n",
       "    .dataframe thead th {\n",
       "        text-align: right;\n",
       "    }\n",
       "</style>\n",
       "<table border=\"1\" class=\"dataframe\">\n",
       "  <thead>\n",
       "    <tr style=\"text-align: right;\">\n",
       "      <th></th>\n",
       "      <th>household</th>\n",
       "      <th>capacity</th>\n",
       "    </tr>\n",
       "  </thead>\n",
       "  <tbody>\n",
       "    <tr>\n",
       "      <th>0</th>\n",
       "      <td>1011W</td>\n",
       "      <td>2963.038537</td>\n",
       "    </tr>\n",
       "    <tr>\n",
       "      <th>1</th>\n",
       "      <td>1954W</td>\n",
       "      <td>2819.092155</td>\n",
       "    </tr>\n",
       "    <tr>\n",
       "      <th>2</th>\n",
       "      <td>1955A</td>\n",
       "      <td>2825.082006</td>\n",
       "    </tr>\n",
       "    <tr>\n",
       "      <th>3</th>\n",
       "      <td>1964J</td>\n",
       "      <td>2770.849033</td>\n",
       "    </tr>\n",
       "    <tr>\n",
       "      <th>4</th>\n",
       "      <td>2053G</td>\n",
       "      <td>3409.944232</td>\n",
       "    </tr>\n",
       "    <tr>\n",
       "      <th>5</th>\n",
       "      <td>2442E</td>\n",
       "      <td>1446.058540</td>\n",
       "    </tr>\n",
       "    <tr>\n",
       "      <th>6</th>\n",
       "      <td>3070L</td>\n",
       "      <td>2465.613342</td>\n",
       "    </tr>\n",
       "    <tr>\n",
       "      <th>7</th>\n",
       "      <td>3517V</td>\n",
       "      <td>879.807524</td>\n",
       "    </tr>\n",
       "    <tr>\n",
       "      <th>8</th>\n",
       "      <td>3660D</td>\n",
       "      <td>2857.514911</td>\n",
       "    </tr>\n",
       "    <tr>\n",
       "      <th>9</th>\n",
       "      <td>3726A</td>\n",
       "      <td>3065.970353</td>\n",
       "    </tr>\n",
       "    <tr>\n",
       "      <th>10</th>\n",
       "      <td>3932W</td>\n",
       "      <td>981.130065</td>\n",
       "    </tr>\n",
       "    <tr>\n",
       "      <th>11</th>\n",
       "      <td>4451M</td>\n",
       "      <td>5192.548449</td>\n",
       "    </tr>\n",
       "    <tr>\n",
       "      <th>12</th>\n",
       "      <td>5427W</td>\n",
       "      <td>1374.035231</td>\n",
       "    </tr>\n",
       "    <tr>\n",
       "      <th>13</th>\n",
       "      <td>5815T</td>\n",
       "      <td>2848.621677</td>\n",
       "    </tr>\n",
       "    <tr>\n",
       "      <th>14</th>\n",
       "      <td>7426U</td>\n",
       "      <td>934.936854</td>\n",
       "    </tr>\n",
       "    <tr>\n",
       "      <th>15</th>\n",
       "      <td>7679U</td>\n",
       "      <td>2871.897837</td>\n",
       "    </tr>\n",
       "    <tr>\n",
       "      <th>16</th>\n",
       "      <td>7710F</td>\n",
       "      <td>1574.498716</td>\n",
       "    </tr>\n",
       "    <tr>\n",
       "      <th>17</th>\n",
       "      <td>8319Q</td>\n",
       "      <td>2803.467388</td>\n",
       "    </tr>\n",
       "    <tr>\n",
       "      <th>18</th>\n",
       "      <td>9248C</td>\n",
       "      <td>965.216083</td>\n",
       "    </tr>\n",
       "    <tr>\n",
       "      <th>19</th>\n",
       "      <td>9370J</td>\n",
       "      <td>2554.771613</td>\n",
       "    </tr>\n",
       "    <tr>\n",
       "      <th>20</th>\n",
       "      <td>9991J</td>\n",
       "      <td>5900.228823</td>\n",
       "    </tr>\n",
       "  </tbody>\n",
       "</table>\n",
       "</div>"
      ],
      "text/plain": [
       "   household     capacity\n",
       "0      1011W  2963.038537\n",
       "1      1954W  2819.092155\n",
       "2      1955A  2825.082006\n",
       "3      1964J  2770.849033\n",
       "4      2053G  3409.944232\n",
       "5      2442E  1446.058540\n",
       "6      3070L  2465.613342\n",
       "7      3517V   879.807524\n",
       "8      3660D  2857.514911\n",
       "9      3726A  3065.970353\n",
       "10     3932W   981.130065\n",
       "11     4451M  5192.548449\n",
       "12     5427W  1374.035231\n",
       "13     5815T  2848.621677\n",
       "14     7426U   934.936854\n",
       "15     7679U  2871.897837\n",
       "16     7710F  1574.498716\n",
       "17     8319Q  2803.467388\n",
       "18     9248C   965.216083\n",
       "19     9370J  2554.771613\n",
       "20     9991J  5900.228823"
      ]
     },
     "execution_count": 57,
     "metadata": {},
     "output_type": "execute_result"
    }
   ],
   "source": [
    "df_pv_capacity"
   ]
  },
  {
   "cell_type": "code",
   "execution_count": 58,
   "metadata": {},
   "outputs": [],
   "source": [
    "# columns that ends with '_pv'\n",
    "pv_cols = [col for col in df.columns if col.endswith('_pv')]\n",
    "# columns that ends with '_con'\n",
    "con_cols = [col for col in df.columns if col.endswith('_con')]\n",
    "# columns that ends with '_net'\n",
    "net_cols = [col for col in df.columns if col.endswith('_net')]"
   ]
  },
  {
   "cell_type": "code",
   "execution_count": 59,
   "metadata": {},
   "outputs": [],
   "source": [
    "# df_common_xylabel_plot(df,y=net_cols,ylabel='Net load (W)')"
   ]
  },
  {
   "cell_type": "code",
   "execution_count": 60,
   "metadata": {},
   "outputs": [],
   "source": [
    "# df_common_xylabel_plot(df,y=pv_cols,ylabel='PV generation (W)')"
   ]
  },
  {
   "cell_type": "code",
   "execution_count": 61,
   "metadata": {},
   "outputs": [],
   "source": [
    "# df_common_xylabel_plot(df,y=con_cols,ylabel='Consumption (W)')"
   ]
  },
  {
   "cell_type": "markdown",
   "metadata": {},
   "source": [
    "# Check the distribution of irradiance"
   ]
  },
  {
   "cell_type": "code",
   "execution_count": 62,
   "metadata": {},
   "outputs": [],
   "source": [
    "# # plot the irradiance over time\n",
    "# plt.plot(df['datetime'], df['irradiance'])\n",
    "# plt.show()"
   ]
  },
  {
   "cell_type": "code",
   "execution_count": 63,
   "metadata": {},
   "outputs": [
    {
     "data": {
      "image/png": "[encoded data removed]",
      "text/plain": [
       "<Figure size 350x262.5 with 1 Axes>"
      ]
     },
     "metadata": {},
     "output_type": "display_data"
    }
   ],
   "source": [
    "# histogram of irradiance\n",
    "plt.hist(df['irradiance'], bins=100)\n",
    "plt.show()"
   ]
  },
  {
   "cell_type": "markdown",
   "metadata": {},
   "source": [
    "# Capacity estimation based on base load"
   ]
  },
  {
   "cell_type": "code",
   "execution_count": 64,
   "metadata": {},
   "outputs": [],
   "source": [
    "class capacity_estimation_based_load:\n",
    "    \"\"\"\n",
    "    A class for estimating the capacity of PV systems.\n",
    "    Step 1: Sample the net load at night time as base load, when irradiance is low and PV gen is zero.\n",
    "    Step 2: Sample the load around the characteristic dip as noon load, where PV generation is the highest.\n",
    "    Step 3: Calculate the capacity, which is (base load - noon load) * correction factor,\n",
    "    where the correction factor is (max_irradiance/sample_irradiance).\n",
    "    \"\"\"\n",
    "    def __init__(self, df: pd.DataFrame, cols: list, irradiance_threshold_noon: float=500, irradiance_threshold_night: float =0.01, max_irradiance: float =1000,base_load_correction_factors =None):\n",
    "        self.df = df\n",
    "        self.cols = cols\n",
    "        self.irradiance_threshold_noon = irradiance_threshold_noon\n",
    "        self.irradiance_threshold_night= irradiance_threshold_night\n",
    "        self.max_irradiance = max_irradiance\n",
    "        self.base_load_correction_factors = base_load_correction_factors\n",
    "        # why higher threshold_noon?\n",
    "        # because the when PV gen is dominating, the error is smaller.\n",
    "        # the minimal irradiance for PV to generate power is \n",
    "        self.base_load = None\n",
    "        self.correction_factors = None\n",
    "    def estimate_capacity(self) -> pd.Series:\n",
    "        self.base_load_estimation()\n",
    "        self.noon_load_estimation()\n",
    "        # first use base_load - peak_load, then use the correction factor\n",
    "        pv_gen_not_corrected = self.base_load - self.high_irradiance_df[self.cols] \n",
    "        pv_gen_corrected = pv_gen_not_corrected.multiply(self.correction_factors, axis=0)\n",
    "        pv_gen_capacity= pv_gen_corrected.mean()\n",
    "        return pv_gen_capacity\n",
    "    def base_load_estimation(self):\n",
    "        # use the net load at night time as the base load\n",
    "        # when irradiance is below threshold, the net load is the base load\n",
    "        self.base_load_at_night = self.df[self.df['irradiance'] < self.irradiance_threshold_night][self.cols].mean()\n",
    "        # calculate the correction factor based on total_con(at daylight)/total_con(at night)\n",
    "        if self.base_load_correction_factors is None:\n",
    "            self.base_load_correction_factors = self.df[self.df['irradiance'] > self.irradiance_threshold_noon]['total_con'].mean() / self.df[self.df['irradiance'] <= self.irradiance_threshold_night]['total_con'].mean()\n",
    "        print(f'The base load correction factor is {self.base_load_correction_factors}')\n",
    "        self.base_load= self.base_load_at_night * self.base_load_correction_factors\n",
    "        return None\n",
    "    def noon_load_estimation(self):\n",
    "        # when irradiance is above threshold, the net load is the noon load\n",
    "        # add a correction factor here, which is max_irradiance/irradiance\n",
    "        self.high_irradiance_df = self.df[self.df['irradiance'] > self.irradiance_threshold_noon].copy()\n",
    "        self.correction_factors = self.max_irradiance / self.high_irradiance_df['irradiance']\n",
    "        return  None"
   ]
  },
  {
   "cell_type": "code",
   "execution_count": 65,
   "metadata": {},
   "outputs": [],
   "source": [
    "# deprecated dumb version.\n",
    "# class capacity_estimation_based_load:\n",
    "#     \"\"\"\n",
    "#     A class for estimating the capacity of a PV system.\n",
    "#     Step 1: Use the net load at night time as the base load.\n",
    "#     Step 2: Capture the characteristic dip around solar noon, where PV generation is the highest.\n",
    "#     Step 3: Calculate the capacity, which is base load - peak load \n",
    "#     \"\"\"\n",
    "#     def __init__(self, df, cols):\n",
    "#         self.df = df\n",
    "#         self.cols = cols\n",
    "#         self.irradiance_threshold = 800\n",
    "#         # why higher threshold?\n",
    "#         # because the when PV gen is dominating, the error is small.\n",
    "#     def estimate_capacity(self):\n",
    "#         base_load = self.base_load_estimation()\n",
    "#         peak_load = self.peak_capture()\n",
    "#         capacity = base_load - peak_load\n",
    "#         return capacity\n",
    "#     def base_load_estimation(self):\n",
    "#         # use the net load at night time as the base load\n",
    "#         # when irradiance is below 0.01, the net load is the base load\n",
    "#         base_load = self.df[self.df['irradiance'] < 0.01][self.cols].mean()\n",
    "#         return base_load\n",
    "#     def peak_capture(self):\n",
    "#         # capture the characteristic dip around solar noon, where PV generation is the highest\n",
    "#         # when irradiance is above 800, the net load is the peak load\n",
    "#         # add a correction factor here, which 1000/irradiance\n",
    "#         high_irradiance_df = self.df[self.df['irradiance'] > self.irradiance_threshold].copy()\n",
    "#         correction_factors = 1000 / high_irradiance_df['irradiance']\n",
    "#         corrected_loads = high_irradiance_df[self.cols].multiply(correction_factors, axis=0)\n",
    "#         peak_load = corrected_loads.mean()\n",
    "#         return peak_load"
   ]
  },
  {
   "cell_type": "code",
   "execution_count": 66,
   "metadata": {},
   "outputs": [
    {
     "name": "stdout",
     "output_type": "stream",
     "text": [
      "The base load correction factor is 1\n"
     ]
    }
   ],
   "source": [
    "# create an instance of capacity_estimation_based_load\n",
    "# remove total_net and households to remove from net_cols\n",
    "households_to_remove_with_suffix = [col + '_net' for col in households_to_remove]\n",
    "net_cols_without_total_net = [col for col in net_cols if col != 'total_net' and col not in households_to_remove_with_suffix]\n",
    "\n",
    "cap_est_based_load = capacity_estimation_based_load(df,net_cols_without_total_net,base_load_correction_factors=1)\n",
    "capacity_based_load = cap_est_based_load.estimate_capacity()"
   ]
  },
  {
   "cell_type": "code",
   "execution_count": 67,
   "metadata": {},
   "outputs": [
    {
     "data": {
      "text/plain": [
       "1011W_net    2823.161755\n",
       "1954W_net    2689.799410\n",
       "1955A_net    2736.579766\n",
       "1964J_net    2966.476239\n",
       "2053G_net    3447.785026\n",
       "2442E_net    1619.973333\n",
       "3070L_net    2398.441618\n",
       "3517V_net     732.923527\n",
       "3660D_net    2786.203874\n",
       "3726A_net    3218.803670\n",
       "3932W_net    1006.592511\n",
       "4451M_net    5621.090991\n",
       "5427W_net    1424.390341\n",
       "5815T_net    2885.878527\n",
       "7426U_net     764.153599\n",
       "7679U_net    2404.245831\n",
       "7710F_net     909.281909\n",
       "8319Q_net    2827.438312\n",
       "9248C_net     939.249697\n",
       "9370J_net    2576.076447\n",
       "9991J_net    6753.452292\n",
       "dtype: float64"
      ]
     },
     "execution_count": 67,
     "metadata": {},
     "output_type": "execute_result"
    }
   ],
   "source": [
    "capacity_based_load"
   ]
  },
  {
   "cell_type": "code",
   "execution_count": 68,
   "metadata": {},
   "outputs": [
    {
     "data": {
      "text/plain": [
       "21"
      ]
     },
     "execution_count": 68,
     "metadata": {},
     "output_type": "execute_result"
    }
   ],
   "source": [
    "# the length of capacity_based_load should be the same as df_pv_capacity\n",
    "len(capacity_based_load)"
   ]
  },
  {
   "cell_type": "code",
   "execution_count": 69,
   "metadata": {},
   "outputs": [
    {
     "data": {
      "image/png": "[encoded data removed]",
      "text/plain": [
       "<Figure size 600x400 with 1 Axes>"
      ]
     },
     "metadata": {},
     "output_type": "display_data"
    },
    {
     "data": {
      "text/plain": [
       "0.9475271825407134"
      ]
     },
     "execution_count": 69,
     "metadata": {},
     "output_type": "execute_result"
    }
   ],
   "source": [
    "# plot the estimated capacity vs the actual capacity\n",
    "# the second column of df_pv_capacity is the actual capacity\n",
    "plot_actual_vs_predicted(df_pv_capacity.iloc[:, 1], capacity_based_load)\n",
    "# calculate the R2 score\n",
    "r2_score(df_pv_capacity.iloc[:, 1], capacity_based_load)"
   ]
  },
  {
   "cell_type": "markdown",
   "metadata": {},
   "source": [
    "Except 2108P and 3307S, the capacity of other households are well estimated.\\\n",
    "TODO: check what is wrong with these two."
   ]
  },
  {
   "cell_type": "code",
   "execution_count": 70,
   "metadata": {},
   "outputs": [
    {
     "name": "stdout",
     "output_type": "stream",
     "text": [
      "The real capacity of 1011W is 2963.038537148181 W, and the estimated capacity is 2823.161754987146 W\n",
      "The real capacity of 1954W is 2819.0921551825563 W, and the estimated capacity is 2689.799409676182 W\n",
      "The real capacity of 1955A is 2825.082005695712 W, and the estimated capacity is 2736.57976623251 W\n",
      "The real capacity of 1964J is 2770.8490332956994 W, and the estimated capacity is 2966.476239396331 W\n",
      "The real capacity of 2053G is 3409.944231715041 W, and the estimated capacity is 3447.785025716503 W\n",
      "The real capacity of 2442E is 1446.0585398352928 W, and the estimated capacity is 1619.973332521247 W\n",
      "The real capacity of 3070L is 2465.613341818588 W, and the estimated capacity is 2398.4416180854932 W\n",
      "The real capacity of 3517V is 879.8075244566814 W, and the estimated capacity is 732.9235265793908 W\n",
      "The real capacity of 3660D is 2857.5149109892063 W, and the estimated capacity is 2786.20387358951 W\n",
      "The real capacity of 3726A is 3065.9703533065262 W, and the estimated capacity is 3218.8036695708915 W\n",
      "The real capacity of 3932W is 981.1300646774204 W, and the estimated capacity is 1006.5925113256633 W\n",
      "The real capacity of 4451M is 5192.548449412307 W, and the estimated capacity is 5621.090990970367 W\n",
      "The real capacity of 5427W is 1374.0352311787085 W, and the estimated capacity is 1424.3903405964631 W\n",
      "The real capacity of 5815T is 2848.621676525069 W, and the estimated capacity is 2885.87852658312 W\n",
      "The real capacity of 7426U is 934.9368539705436 W, and the estimated capacity is 764.1535990558045 W\n",
      "The real capacity of 7679U is 2871.8978370916 W, and the estimated capacity is 2404.2458310695365 W\n",
      "The real capacity of 7710F is 1574.4987158879314 W, and the estimated capacity is 909.2819090268858 W\n",
      "The real capacity of 8319Q is 2803.4673875296758 W, and the estimated capacity is 2827.438311771464 W\n",
      "The real capacity of 9248C is 965.2160832358916 W, and the estimated capacity is 939.2496974359966 W\n",
      "The real capacity of 9370J is 2554.7716128546763 W, and the estimated capacity is 2576.076447468202 W\n",
      "The real capacity of 9991J is 5900.228823242032 W, and the estimated capacity is 6753.452291887017 W\n"
     ]
    },
    {
     "name": "stderr",
     "output_type": "stream",
     "text": [
      "/tmp/ipykernel_811446/4247410128.py:3: FutureWarning: Series.__getitem__ treating keys as positions is deprecated. In a future version, integer keys will always be treated as labels (consistent with DataFrame behavior). To access a value by position, use `ser.iloc[pos]`\n",
      "  print(f'The real capacity of {df_pv_capacity.iloc[i, 0]} is {df_pv_capacity.iloc[i, 1]} W, and the estimated capacity is {capacity_based_load[i]} W')\n"
     ]
    }
   ],
   "source": [
    "# print the real capacity and estimated of each household together\n",
    "for i in range(len(df_pv_capacity)):\n",
    "    print(f'The real capacity of {df_pv_capacity.iloc[i, 0]} is {df_pv_capacity.iloc[i, 1]} W, and the estimated capacity is {capacity_based_load[i]} W')"
   ]
  },
  {
   "cell_type": "code",
   "execution_count": 71,
   "metadata": {},
   "outputs": [
    {
     "name": "stdout",
     "output_type": "stream",
     "text": [
      "The real capacity is 53504.32336904934 W, and the estimated capacity is 53531.99867354572 W\n",
      "The error rate is -0.051725361155368625%\n",
      "The error factor is 0.9994830138014247\n"
     ]
    }
   ],
   "source": [
    "# sum up the capacity of all households both real and estimated\n",
    "real_capacity = df_pv_capacity['capacity'].sum()\n",
    "estimated_capacity = capacity_based_load.sum()\n",
    "print(f'The real capacity is {real_capacity} W, and the estimated capacity is {estimated_capacity} W')\n",
    "# print the error rate\n",
    "capacity_error_rate = (real_capacity - estimated_capacity) / real_capacity * 100\n",
    "print(f'The error rate is {capacity_error_rate}%')\n",
    "error_factor= real_capacity/estimated_capacity\n",
    "print(f'The error factor is {error_factor}')"
   ]
  },
  {
   "cell_type": "code",
   "execution_count": 72,
   "metadata": {},
   "outputs": [],
   "source": [
    "# save the error rate to a npy file\n",
    "np.save(\"../data/nl/capacity_error_rate.npy\", capacity_error_rate)\n",
    "# save the error factor to a npy file\n",
    "np.save(\"../data/nl/capacity_error_factor.npy\", error_factor)"
   ]
  },
  {
   "cell_type": "markdown",
   "metadata": {},
   "source": [
    "## Sensitivity analysis"
   ]
  },
  {
   "cell_type": "code",
   "execution_count": 73,
   "metadata": {},
   "outputs": [],
   "source": [
    "# test the irradiance_threshold_noon( ranging 100 to 800,step 100) and irradiance_threshold_night(ranging [0.01,0.1,1,10,50])\n",
    "def sensitivity_analysis_irradiance_threshold(df_tmp,real_capacity_tmp,fig_name):\n",
    "    plt.style.use(['science'])\n",
    "    list_irradiance_thresholds_noon = [10, 20, 30, 40] + list(range(50, 550, 50))\n",
    "    list_irradiance_thresholds_night = [0.01, 0.1, 1, 10]\n",
    "    # store the error rates in a matrix\n",
    "    error_rates = np.zeros((len(list_irradiance_thresholds_noon), len(list_irradiance_thresholds_night)))\n",
    "    for i, irradiance_threshold_noon in enumerate(list_irradiance_thresholds_noon):\n",
    "        for j, irradiance_threshold_night in enumerate(list_irradiance_thresholds_night):\n",
    "            cap_est_based_load = capacity_estimation_based_load(df_tmp,net_cols_without_total_net,irradiance_threshold_noon,irradiance_threshold_night)\n",
    "            capacity_based_load = cap_est_based_load.estimate_capacity()\n",
    "            estimated_capacity = capacity_based_load.sum()\n",
    "            error_rates[i, j] = (real_capacity_tmp - estimated_capacity) / real_capacity_tmp * 100\n",
    "    # put error_rates, 0, and error_rates.max() in a ascending order list\n",
    "    v_min_c_max = sorted([error_rates.min(), 0, error_rates.max()])\n",
    "    # Plot heatmap\n",
    "    plt.figure(figsize=(6, 4))\n",
    "    heatmap = plt.imshow(\n",
    "        error_rates, \n",
    "        cmap='RdBu_r', \n",
    "        norm=TwoSlopeNorm(vmin=v_min_c_max[0], vcenter=v_min_c_max[1], vmax=v_min_c_max[2]),\n",
    "        aspect='auto'\n",
    "    )\n",
    "    \n",
    "    # Configure axis labels\n",
    "    plt.xticks(range(len(list_irradiance_thresholds_night)), list_irradiance_thresholds_night)\n",
    "    plt.yticks(range(len(list_irradiance_thresholds_noon)), list_irradiance_thresholds_noon)\n",
    "    plt.xlabel('Irradiance threshold for night time (W/m$^2$)')\n",
    "    plt.ylabel('Irradiance threshold for noon time (W/m$^2$)')\n",
    "\n",
    "    # Add colorbar\n",
    "    ticks = np.linspace(error_rates.min(), error_rates.max(), 6)  # Adjust the number of ticks as needed\n",
    "    ticks[1:-1] = np.round(ticks[1:-1], -1)  # Round middle ticks to closest multiple of 10\n",
    "    print(f'The ticks are {ticks}')\n",
    "    cbar = plt.colorbar(heatmap)\n",
    "    cbar.set_ticks(ticks)\n",
    "    cbar.set_label('Error Rate (\\%)')\n",
    "\n",
    "    # # Add title\n",
    "    # # but not needed for IEEE paper as info are in the caption\n",
    "    # plt.title('Sensitivity Analysis: Irradiance Threshold')\n",
    "    # save the figure\n",
    "    plt.savefig(fig_name, format='pdf')\n",
    "    # Display plot\n",
    "    plt.tight_layout()\n",
    "    plt.show()\n",
    "    return None"
   ]
  },
  {
   "cell_type": "code",
   "execution_count": 74,
   "metadata": {},
   "outputs": [
    {
     "name": "stdout",
     "output_type": "stream",
     "text": [
      "The base load correction factor is 1.0990352730780852\n",
      "The base load correction factor is 1.0990352730780852\n",
      "The base load correction factor is 1.0990352730780852\n",
      "The base load correction factor is 1.073192660959367\n",
      "The base load correction factor is 1.0900002872241277\n",
      "The base load correction factor is 1.0900002872241277\n",
      "The base load correction factor is 1.0900002872241277\n",
      "The base load correction factor is 1.0643701229136295\n",
      "The base load correction factor is 1.0832958364305012\n",
      "The base load correction factor is 1.0832958364305012\n",
      "The base load correction factor is 1.0832958364305012\n",
      "The base load correction factor is 1.0578233199458489\n",
      "The base load correction factor is 1.0771117630636795\n",
      "The base load correction factor is 1.0771117630636795\n",
      "The base load correction factor is 1.0771117630636795\n",
      "The base load correction factor is 1.0517846582989667\n",
      "The base load correction factor is 1.0656998884472562\n",
      "The base load correction factor is 1.0656998884472562\n",
      "The base load correction factor is 1.0656998884472562\n",
      "The base load correction factor is 1.0406411214297329\n",
      "The base load correction factor is 1.0493350652141031\n",
      "The base load correction factor is 1.0493350652141031\n",
      "The base load correction factor is 1.0493350652141031\n",
      "The base load correction factor is 1.0246610991120422\n",
      "The base load correction factor is 1.0345945216835641\n",
      "The base load correction factor is 1.0345945216835641\n",
      "The base load correction factor is 1.0345945216835641\n",
      "The base load correction factor is 1.0102671633366955\n",
      "The base load correction factor is 1.0283699822712427\n",
      "The base load correction factor is 1.0283699822712427\n",
      "The base load correction factor is 1.0283699822712427\n",
      "The base load correction factor is 1.004188987159104\n",
      "The base load correction factor is 1.0252687882073048\n",
      "The base load correction factor is 1.0252687882073048\n",
      "The base load correction factor is 1.0252687882073048\n",
      "The base load correction factor is 1.0011607142809211\n",
      "The base load correction factor is 1.01631512028196\n",
      "The base load correction factor is 1.01631512028196\n",
      "The base load correction factor is 1.01631512028196\n",
      "The base load correction factor is 0.9924175820616655\n",
      "The base load correction factor is 1.0129746501477088\n",
      "The base load correction factor is 1.0129746501477088\n",
      "The base load correction factor is 1.0129746501477088\n",
      "The base load correction factor is 0.9891556594281983\n",
      "The base load correction factor is 1.0044843607318772\n",
      "The base load correction factor is 1.0044843607318772\n",
      "The base load correction factor is 1.0044843607318772\n",
      "The base load correction factor is 0.9808650098797336\n",
      "The base load correction factor is 0.9971200457693541\n",
      "The base load correction factor is 0.9971200457693541\n",
      "The base load correction factor is 0.9971200457693541\n",
      "The base load correction factor is 0.9736738587271069\n",
      "The base load correction factor is 0.990190694392796\n",
      "The base load correction factor is 0.990190694392796\n",
      "The base load correction factor is 0.990190694392796\n",
      "The base load correction factor is 0.9669074434675645\n",
      "The ticks are [-1.47274586  0.         10.         20.         20.         30.43664025]\n"
     ]
    },
    {
     "data": {
      "image/png": "[encoded data removed]",
      "text/plain": [
       "<Figure size 600x400 with 2 Axes>"
      ]
     },
     "metadata": {},
     "output_type": "display_data"
    }
   ],
   "source": [
    "sensitivity_analysis_irradiance_threshold(df,real_capacity,fig_name='../figs/sensitivity_analysis_irradiance_threshold.pdf')"
   ]
  },
  {
   "cell_type": "markdown",
   "metadata": {},
   "source": [
    "## Check 3307S"
   ]
  },
  {
   "cell_type": "code",
   "execution_count": 75,
   "metadata": {},
   "outputs": [],
   "source": [
    "# # plot the net load, pv gen and consumption of 3307S, during 2018-07-01 to 2018-07-04\n",
    "# df_common_xylabel_plot(df[(df['doy'] >= 182) & (df['doy'] <=  185) & (df['year'] == 2018)],y=['3307S_net','3307S_pv','3307S_con'],ylabel='Load (W)',layout=(3,1))"
   ]
  },
  {
   "cell_type": "code",
   "execution_count": 76,
   "metadata": {},
   "outputs": [],
   "source": [
    "# # plot the net load, pv gen and consumption of 3307S, during 2018-09-01 to 2018-09-04\n",
    "# df_common_xylabel_plot(df[(df['doy'] >= 244) & (df['doy'] <=  247) & (df['year'] == 2018)],y=['3307S_net','3307S_pv','3307S_con'],ylabel='Load (W)',layout=(3,1))"
   ]
  },
  {
   "cell_type": "markdown",
   "metadata": {},
   "source": [
    "It seems that household 3307S is using some demand response strategies.\n",
    "Let's check a normal household 2053G"
   ]
  },
  {
   "cell_type": "code",
   "execution_count": 77,
   "metadata": {},
   "outputs": [],
   "source": [
    "# # plot the net load, pv gen and consumption of 2053G, during 2022-07-01 to 2022-07-4\n",
    "# df_common_xylabel_plot(df[(df['doy'] >= 182) & (df['doy'] <=  185) & (df['year'] == 2018)],y=['2053G_net','2053G_pv','2053G_con'],ylabel='Load (W)',layout=(3,1))"
   ]
  },
  {
   "cell_type": "markdown",
   "metadata": {},
   "source": [
    "## Check 2108P"
   ]
  },
  {
   "cell_type": "code",
   "execution_count": 78,
   "metadata": {},
   "outputs": [],
   "source": [
    "# # plot the net load, pv gen and consumption of 2108P, during 2018-07-01 to 2018-07-04\n",
    "# df_common_xylabel_plot(df[(df['doy'] >= 182) & (df['doy'] <=  185) & (df['year'] == 2018)],y=['2108P_net','2108P_pv','2108P_con'],ylabel='Load (W)',layout=(3,1))\n"
   ]
  },
  {
   "cell_type": "code",
   "execution_count": 79,
   "metadata": {},
   "outputs": [],
   "source": [
    "# # plot the net load, pv gen and consumption of 2108P, for all days in 2018\n",
    "# df_common_xylabel_plot(df[(df['year'] == 2018)],y=['2108P_net','2108P_pv','2108P_con'],ylabel='Load (W)',layout=(3,1))\n"
   ]
  },
  {
   "cell_type": "code",
   "execution_count": 80,
   "metadata": {},
   "outputs": [],
   "source": [
    "# # plot the net load, pv gen and consumption of 2108P, during 2018-07-19 to 2018-07-25\n",
    "# df_common_xylabel_plot(df[(df['doy'] >= 200) & (df['doy'] <=  206) & (df['year'] == 2018)],y=['2108P_net','2108P_pv','2108P_con'],ylabel='Load (W)',layout=(3,1))"
   ]
  },
  {
   "cell_type": "markdown",
   "metadata": {},
   "source": [
    "# base_load_correction_factors for two parts"
   ]
  },
  {
   "cell_type": "code",
   "execution_count": 81,
   "metadata": {},
   "outputs": [],
   "source": [
    "# columns that ends with '_net'\n",
    "net_cols = [col for col in df_part1.columns if col.endswith('_net')]\n",
    "# create an instance of capacity_estimation_based_load\n",
    "# remove total_net and households to remove from net_cols\n",
    "net_cols_part1 = [col for col in net_cols if col != 'total_net' and col not in households_to_remove_with_suffix]\n",
    "net_cols_without_total_net = [col for col in net_cols_part1 if col != 'total_net']\n",
    "cap_est_based_load_part1_tmp = capacity_estimation_based_load(df_part1,net_cols_without_total_net)\n",
    "base_load_correction_factors_from_part1=cap_est_based_load_part1_tmp.base_load_correction_factors\n",
    "base_load_correction_factors_from_part1"
   ]
  },
  {
   "cell_type": "code",
   "execution_count": 82,
   "metadata": {},
   "outputs": [],
   "source": [
    "# columns that ends with '_net'\n",
    "net_cols = [col for col in df_part2.columns if col.endswith('_net')]\n",
    "# create an instance of capacity_estimation_based_load\n",
    "# remove total_net and households to remove from net_cols\n",
    "net_cols_part2 = [col for col in net_cols if col != 'total_net' and col not in households_to_remove_with_suffix]\n",
    "net_cols_without_total_net = [col for col in net_cols_part2 if col != 'total_net']\n",
    "cap_est_based_load_part2_tmp = capacity_estimation_based_load(df_part2,net_cols_without_total_net)\n",
    "base_load_correction_factors_from_part2=cap_est_based_load_part2_tmp.base_load_correction_factors\n",
    "base_load_correction_factors_from_part2"
   ]
  },
  {
   "cell_type": "markdown",
   "metadata": {},
   "source": [
    "# Estimation for part 1"
   ]
  },
  {
   "cell_type": "code",
   "execution_count": 83,
   "metadata": {},
   "outputs": [
    {
     "name": "stdout",
     "output_type": "stream",
     "text": [
      "The base load correction factor is 0.9561669848453539\n"
     ]
    },
    {
     "data": {
      "text/plain": [
       "1011W_net    2805.024812\n",
       "1954W_net    2666.263362\n",
       "1955A_net    2715.463737\n",
       "1964J_net    2928.759177\n",
       "2053G_net    3421.384418\n",
       "2442E_net    1588.326568\n",
       "3070L_net    2380.594661\n",
       "3517V_net     713.960880\n",
       "3660D_net    2767.637727\n",
       "3726A_net    3194.637009\n",
       "dtype: float64"
      ]
     },
     "execution_count": 83,
     "metadata": {},
     "output_type": "execute_result"
    }
   ],
   "source": [
    "# columns that ends with '_net'\n",
    "net_cols = [col for col in df_part1.columns if col.endswith('_net')]\n",
    "# create an instance of capacity_estimation_based_load\n",
    "# remove total_net and households to remove from net_cols\n",
    "net_cols_part1 = [col for col in net_cols if col != 'total_net' and col not in households_to_remove_with_suffix]\n",
    "net_cols_without_total_net = [col for col in net_cols_part1 if col != 'total_net']\n",
    "\n",
    "cap_est_based_load_part1 = capacity_estimation_based_load(df_part1,net_cols_without_total_net,base_load_correction_factors=base_load_correction_factors_from_part2)\n",
    "# cap_est_based_load_part1 = capacity_estimation_based_load(df_part1,net_cols_without_total_net,base_load_correction_factors=1)\n",
    "capacity_based_load_part1 = cap_est_based_load_part1.estimate_capacity()\n",
    "capacity_based_load_part1"
   ]
  },
  {
   "cell_type": "code",
   "execution_count": 84,
   "metadata": {},
   "outputs": [
    {
     "data": {
      "image/png": "[encoded data removed]",
      "text/plain": [
       "<Figure size 600x400 with 1 Axes>"
      ]
     },
     "metadata": {},
     "output_type": "display_data"
    },
    {
     "data": {
      "text/plain": [
       "0.9699049608846599"
      ]
     },
     "execution_count": 84,
     "metadata": {},
     "output_type": "execute_result"
    }
   ],
   "source": [
    "# plot the estimated capacity vs the actual capacity\n",
    "# the second column of df_pv_capacity is the actual capacity\n",
    "# TODO: add the name of the households to the figure, so each dot has a label\n",
    "plot_actual_vs_predicted(df_pv_capacity_part1.iloc[:, 1], capacity_based_load_part1,fig_name='../figs/actual_vs_predicted_capacity_part1.pdf')\n",
    "# calculate the R2 score\n",
    "r2_score(df_pv_capacity_part1.iloc[:, 1], capacity_based_load_part1)"
   ]
  },
  {
   "cell_type": "code",
   "execution_count": 85,
   "metadata": {},
   "outputs": [
    {
     "name": "stdout",
     "output_type": "stream",
     "text": [
      "The real capacity of 1011W is 2963.038537148181 W, and the estimated capacity is 2805.0248124342465 W\n",
      "The real capacity of 1954W is 2819.0921551825563 W, and the estimated capacity is 2666.2633618609034 W\n",
      "The real capacity of 1955A is 2825.082005695712 W, and the estimated capacity is 2715.4637368714043 W\n",
      "The real capacity of 1964J is 2770.8490332956994 W, and the estimated capacity is 2928.759177172368 W\n",
      "The real capacity of 2053G is 3409.944231715041 W, and the estimated capacity is 3421.3844177440633 W\n",
      "The real capacity of 2442E is 1446.0585398352928 W, and the estimated capacity is 1588.3265677265244 W\n",
      "The real capacity of 3070L is 2465.613341818588 W, and the estimated capacity is 2380.5946612623043 W\n",
      "The real capacity of 3517V is 879.8075244566814 W, and the estimated capacity is 713.9608799253043 W\n",
      "The real capacity of 3660D is 2857.5149109892063 W, and the estimated capacity is 2767.6377266403283 W\n",
      "The real capacity of 3726A is 3065.9703533065262 W, and the estimated capacity is 3194.6370091083622 W\n"
     ]
    },
    {
     "name": "stderr",
     "output_type": "stream",
     "text": [
      "/tmp/ipykernel_811446/2473863109.py:3: FutureWarning: Series.__getitem__ treating keys as positions is deprecated. In a future version, integer keys will always be treated as labels (consistent with DataFrame behavior). To access a value by position, use `ser.iloc[pos]`\n",
      "  print(f'The real capacity of {df_pv_capacity_part1.iloc[i, 0]} is {df_pv_capacity_part1.iloc[i, 1]} W, and the estimated capacity is {capacity_based_load_part1[i]} W')\n"
     ]
    }
   ],
   "source": [
    "# print the real capacity and estimated of each household together\n",
    "for i in range(len(df_pv_capacity_part1)):\n",
    "    print(f'The real capacity of {df_pv_capacity_part1.iloc[i, 0]} is {df_pv_capacity_part1.iloc[i, 1]} W, and the estimated capacity is {capacity_based_load_part1[i]} W')"
   ]
  },
  {
   "cell_type": "code",
   "execution_count": 86,
   "metadata": {},
   "outputs": [
    {
     "name": "stdout",
     "output_type": "stream",
     "text": [
      "The real capacity is 25502.97063344348 W, and the estimated capacity is 25182.05235074581 W\n",
      "The error rate is 1.25835647662486%\n",
      "The error factor is 1.0127439288199307\n"
     ]
    }
   ],
   "source": [
    "# sum up the capacity of all households both real and estimated\n",
    "real_capacity_part1 = df_pv_capacity_part1['capacity'].sum()\n",
    "estimated_capacity_part1 = capacity_based_load_part1.sum()\n",
    "print(f'The real capacity is {real_capacity_part1} W, and the estimated capacity is {estimated_capacity_part1} W')\n",
    "# print the error rate\n",
    "capacity_error_rate_part1 = (real_capacity_part1 - estimated_capacity_part1) / real_capacity_part1 * 100\n",
    "print(f'The error rate is {capacity_error_rate_part1}%')\n",
    "error_factor_part1= real_capacity_part1/estimated_capacity_part1\n",
    "print(f'The error factor is {error_factor_part1}')"
   ]
  },
  {
   "cell_type": "code",
   "execution_count": 87,
   "metadata": {},
   "outputs": [],
   "source": [
    "# save the error rate to a npy file\n",
    "np.save(\"../data/nl/capacity_error_rate_part1.npy\", capacity_error_rate_part1)\n",
    "# save the error factor to a npy file\n",
    "np.save(\"../data/nl/capacity_error_factor_part1.npy\", error_factor_part1)"
   ]
  },
  {
   "cell_type": "code",
   "execution_count": 88,
   "metadata": {},
   "outputs": [
    {
     "name": "stdout",
     "output_type": "stream",
     "text": [
      "The base load correction factor is 1.0953067693873388\n",
      "The base load correction factor is 1.0953067693873388\n",
      "The base load correction factor is 1.0953067693873388\n",
      "The base load correction factor is 1.0684803303180912\n",
      "The base load correction factor is 1.0847360681880944\n",
      "The base load correction factor is 1.0847360681880944\n",
      "The base load correction factor is 1.0847360681880944\n",
      "The base load correction factor is 1.058168528524535\n",
      "The base load correction factor is 1.076541846047722\n",
      "The base load correction factor is 1.076541846047722\n",
      "The base load correction factor is 1.076541846047722\n",
      "The base load correction factor is 1.0501750006618868\n",
      "The base load correction factor is 1.0684464030907483\n",
      "The base load correction factor is 1.0684464030907483\n",
      "The base load correction factor is 1.0684464030907483\n",
      "The base load correction factor is 1.0422778326661328\n",
      "The base load correction factor is 1.0565763086851134\n",
      "The base load correction factor is 1.0565763086851134\n",
      "The base load correction factor is 1.0565763086851134\n",
      "The base load correction factor is 1.0306984626248668\n",
      "The base load correction factor is 1.0357300478602751\n",
      "The base load correction factor is 1.0357300478602751\n",
      "The base load correction factor is 1.0357300478602751\n",
      "The base load correction factor is 1.0103627719539514\n",
      "The base load correction factor is 1.0154399835258214\n",
      "The base load correction factor is 1.0154399835258214\n",
      "The base load correction factor is 1.0154399835258214\n",
      "The base load correction factor is 0.9905696553146934\n",
      "The base load correction factor is 1.005011486392124\n",
      "The base load correction factor is 1.005011486392124\n",
      "The base load correction factor is 1.005011486392124\n",
      "The base load correction factor is 0.9803965747006049\n",
      "The base load correction factor is 0.9978050727155954\n",
      "The base load correction factor is 0.9978050727155954\n",
      "The base load correction factor is 0.9978050727155954\n",
      "The base load correction factor is 0.9733666617294535\n",
      "The base load correction factor is 0.9857390182849012\n",
      "The base load correction factor is 0.9857390182849012\n",
      "The base load correction factor is 0.9857390182849012\n",
      "The base load correction factor is 0.9615961311492804\n",
      "The base load correction factor is 0.9803903486677776\n",
      "The base load correction factor is 0.9803903486677776\n",
      "The base load correction factor is 0.9803903486677776\n",
      "The base load correction factor is 0.9563784620551113\n",
      "The base load correction factor is 0.9702200021869848\n",
      "The base load correction factor is 0.9702200021869848\n",
      "The base load correction factor is 0.9702200021869848\n",
      "The base load correction factor is 0.9464572094243754\n",
      "The base load correction factor is 0.9617928859435076\n",
      "The base load correction factor is 0.9617928859435076\n",
      "The base load correction factor is 0.9617928859435076\n",
      "The base load correction factor is 0.9382364915404753\n",
      "The base load correction factor is 0.9561669848453539\n",
      "The base load correction factor is 0.9561669848453539\n",
      "The base load correction factor is 0.9561669848453539\n",
      "The base load correction factor is 0.9327483809657049\n",
      "The ticks are [-0.16496884 10.         20.         30.         30.         43.33450832]\n"
     ]
    },
    {
     "data": {
      "image/png": "[encoded data removed]",
      "text/plain": [
       "<Figure size 600x400 with 2 Axes>"
      ]
     },
     "metadata": {},
     "output_type": "display_data"
    }
   ],
   "source": [
    "sensitivity_analysis_irradiance_threshold(df_part1,real_capacity_part1,fig_name='../figs/sensitivity_analysis_irradiance_threshold_part1.pdf')"
   ]
  },
  {
   "cell_type": "markdown",
   "metadata": {},
   "source": [
    "# Estimation for part 2"
   ]
  },
  {
   "cell_type": "code",
   "execution_count": 89,
   "metadata": {},
   "outputs": [
    {
     "name": "stdout",
     "output_type": "stream",
     "text": [
      "The base load correction factor is 1.0233585991896819\n"
     ]
    },
    {
     "data": {
      "text/plain": [
       "3932W_net    1010.096263\n",
       "4451M_net    5649.466423\n",
       "5427W_net    1428.810348\n",
       "5815T_net    2898.607869\n",
       "7426U_net     777.971878\n",
       "7679U_net    2413.085247\n",
       "7710F_net     926.463150\n",
       "8319Q_net    2837.749945\n",
       "9248C_net     945.693070\n",
       "9370J_net    2583.070367\n",
       "9991J_net    6788.662481\n",
       "dtype: float64"
      ]
     },
     "execution_count": 89,
     "metadata": {},
     "output_type": "execute_result"
    }
   ],
   "source": [
    "# columns that ends with '_net'\n",
    "net_cols = [col for col in df_part2.columns if col.endswith('_net')]\n",
    "# create an instance of capacity_estimation_based_load\n",
    "# remove total_net and households to remove from net_cols\n",
    "net_cols_part2 = [col for col in net_cols if col != 'total_net' and col not in households_to_remove_with_suffix]\n",
    "net_cols_without_total_net = [col for col in net_cols_part2 if col != 'total_net']\n",
    "\n",
    "cap_est_based_load_part2 = capacity_estimation_based_load(df_part2,net_cols_without_total_net,base_load_correction_factors=base_load_correction_factors_from_part1)\n",
    "# cap_est_based_load_part2 = capacity_estimation_based_load(df_part2,net_cols_without_total_net,base_load_correction_factors=1)\n",
    "capacity_based_load_part2 = cap_est_based_load_part2.estimate_capacity()\n",
    "capacity_based_load_part2"
   ]
  },
  {
   "cell_type": "code",
   "execution_count": 90,
   "metadata": {},
   "outputs": [
    {
     "data": {
      "image/png": "[encoded data removed]",
      "text/plain": [
       "<Figure size 600x400 with 1 Axes>"
      ]
     },
     "metadata": {},
     "output_type": "display_data"
    },
    {
     "data": {
      "text/plain": [
       "0.9414413391707912"
      ]
     },
     "execution_count": 90,
     "metadata": {},
     "output_type": "execute_result"
    }
   ],
   "source": [
    "# plot the estimated capacity vs the actual capacity\n",
    "# the second column of df_pv_capacity is the actual capacity\n",
    "# TODO: add the name of the households to the figure, so each dot has a label\n",
    "plot_actual_vs_predicted(df_pv_capacity_part2.iloc[:, 1], capacity_based_load_part2,fig_name='../figs/actual_vs_predicted_capacity_part2.pdf')\n",
    "# calculate the R2 score\n",
    "r2_score(df_pv_capacity_part2.iloc[:, 1], capacity_based_load_part2)"
   ]
  },
  {
   "cell_type": "code",
   "execution_count": 91,
   "metadata": {},
   "outputs": [
    {
     "name": "stdout",
     "output_type": "stream",
     "text": [
      "The real capacity of 3932W is 981.1300646774204 W, and the estimated capacity is 1010.096263140177 W\n",
      "The real capacity of 4451M is 5192.548449412307 W, and the estimated capacity is 5649.466423459548 W\n",
      "The real capacity of 5427W is 1374.0352311787085 W, and the estimated capacity is 1428.8103475108503 W\n",
      "The real capacity of 5815T is 2848.621676525069 W, and the estimated capacity is 2898.607868672982 W\n",
      "The real capacity of 7426U is 934.9368539705436 W, and the estimated capacity is 777.9718779392581 W\n",
      "The real capacity of 7679U is 2871.8978370916 W, and the estimated capacity is 2413.08524682239 W\n",
      "The real capacity of 7710F is 1574.4987158879314 W, and the estimated capacity is 926.4631499838052 W\n",
      "The real capacity of 8319Q is 2803.4673875296758 W, and the estimated capacity is 2837.749944770897 W\n",
      "The real capacity of 9248C is 965.2160832358916 W, and the estimated capacity is 945.693069967606 W\n",
      "The real capacity of 9370J is 2554.7716128546763 W, and the estimated capacity is 2583.0703674300594 W\n",
      "The real capacity of 9991J is 5900.228823242032 W, and the estimated capacity is 6788.662480746188 W\n"
     ]
    },
    {
     "name": "stderr",
     "output_type": "stream",
     "text": [
      "/tmp/ipykernel_811446/949596013.py:3: FutureWarning: Series.__getitem__ treating keys as positions is deprecated. In a future version, integer keys will always be treated as labels (consistent with DataFrame behavior). To access a value by position, use `ser.iloc[pos]`\n",
      "  print(f'The real capacity of {df_pv_capacity_part2.iloc[i, 0]} is {df_pv_capacity_part2.iloc[i, 1]} W, and the estimated capacity is {capacity_based_load_part2[i]} W')\n"
     ]
    }
   ],
   "source": [
    "# print the real capacity and estimated of each household together\n",
    "for i in range(len(df_pv_capacity_part2)):\n",
    "    print(f'The real capacity of {df_pv_capacity_part2.iloc[i, 0]} is {df_pv_capacity_part2.iloc[i, 1]} W, and the estimated capacity is {capacity_based_load_part2[i]} W')"
   ]
  },
  {
   "cell_type": "code",
   "execution_count": 92,
   "metadata": {},
   "outputs": [
    {
     "name": "stdout",
     "output_type": "stream",
     "text": [
      "The real capacity is 28001.352735605855 W, and the estimated capacity is 28259.677040443763 W\n",
      "The error rate is -0.9225422331451476%\n",
      "The error factor is 0.9908589081018793\n"
     ]
    }
   ],
   "source": [
    "# sum up the capacity of all households both real and estimated\n",
    "real_capacity_part2 = df_pv_capacity_part2['capacity'].sum()\n",
    "estimated_capacity_part2 = capacity_based_load_part2.sum()\n",
    "print(f'The real capacity is {real_capacity_part2} W, and the estimated capacity is {estimated_capacity_part2} W')\n",
    "# print the error rate\n",
    "capacity_error_rate_part2 = (real_capacity_part2 - estimated_capacity_part2) / real_capacity_part2 * 100\n",
    "print(f'The error rate is {capacity_error_rate_part2}%')\n",
    "error_factor_part2= real_capacity_part2/estimated_capacity_part2\n",
    "print(f'The error factor is {error_factor_part2}')"
   ]
  },
  {
   "cell_type": "code",
   "execution_count": 93,
   "metadata": {},
   "outputs": [],
   "source": [
    "# save the error rate to a npy file\n",
    "np.save(\"../data/nl/capacity_error_rate_part2.npy\", capacity_error_rate_part2)\n",
    "# save the error factor to a npy file\n",
    "np.save(\"../data/nl/capacity_error_factor_part2.npy\", error_factor_part2)"
   ]
  },
  {
   "cell_type": "code",
   "execution_count": 94,
   "metadata": {},
   "outputs": [
    {
     "name": "stdout",
     "output_type": "stream",
     "text": [
      "The base load correction factor is 1.1026699930158708\n",
      "The base load correction factor is 1.1026699930158708\n",
      "The base load correction factor is 1.1026699930158708\n",
      "The base load correction factor is 1.0777955680459326\n",
      "The base load correction factor is 1.0951320943709537\n",
      "The base load correction factor is 1.0951320943709537\n",
      "The base load correction factor is 1.0951320943709537\n",
      "The base load correction factor is 1.0704277120207129\n",
      "The base load correction factor is 1.089879942425844\n",
      "The base load correction factor is 1.089879942425844\n",
      "The base load correction factor is 1.089879942425844\n",
      "The base load correction factor is 1.0652940400018882\n",
      "The base load correction factor is 1.0855591616112177\n",
      "The base load correction factor is 1.0855591616112177\n",
      "The base load correction factor is 1.0855591616112177\n",
      "The base load correction factor is 1.0610707289097225\n",
      "The base load correction factor is 1.074593981095666\n",
      "The base load correction factor is 1.074593981095666\n",
      "The base load correction factor is 1.074593981095666\n",
      "The base load correction factor is 1.050352904866863\n",
      "The base load correction factor is 1.0625978730135448\n",
      "The base load correction factor is 1.0625978730135448\n",
      "The base load correction factor is 1.0625978730135448\n",
      "The base load correction factor is 1.038627409291031\n",
      "The base load correction factor is 1.0532672621488106\n",
      "The base load correction factor is 1.0532672621488106\n",
      "The base load correction factor is 1.0532672621488106\n",
      "The base load correction factor is 1.0295072816908715\n",
      "The base load correction factor is 1.0511409375204563\n",
      "The base load correction factor is 1.0511409375204563\n",
      "The base load correction factor is 1.0511409375204563\n",
      "The base load correction factor is 1.0274289234556946\n",
      "The base load correction factor is 1.0520417037098782\n",
      "The base load correction factor is 1.0520417037098782\n",
      "The base load correction factor is 1.0520417037098782\n",
      "The base load correction factor is 1.0283093698385233\n",
      "The base load correction factor is 1.0461221358480963\n",
      "The base load correction factor is 1.0461221358480963\n",
      "The base load correction factor is 1.0461221358480963\n",
      "The base load correction factor is 1.0225233377105192\n",
      "The base load correction factor is 1.0447393525783002\n",
      "The base load correction factor is 1.0447393525783002\n",
      "The base load correction factor is 1.0447393525783002\n",
      "The base load correction factor is 1.0211717477614013\n",
      "The base load correction factor is 1.0378868614368237\n",
      "The base load correction factor is 1.0378868614368237\n",
      "The base load correction factor is 1.0378868614368237\n",
      "The base load correction factor is 1.0144738375714657\n",
      "The base load correction factor is 1.0315586149152078\n",
      "The base load correction factor is 1.0315586149152078\n",
      "The base load correction factor is 1.0315586149152078\n",
      "The base load correction factor is 1.008288345903333\n",
      "The base load correction factor is 1.0233585991896819\n",
      "The base load correction factor is 1.0233585991896819\n",
      "The base load correction factor is 1.0233585991896819\n",
      "The base load correction factor is 1.0002733090719536\n",
      "The ticks are [-2.95809822  0.         10.         10.         10.         18.92836907]\n"
     ]
    },
    {
     "data": {
      "image/png": "[encoded data removed]",
      "text/plain": [
       "<Figure size 600x400 with 2 Axes>"
      ]
     },
     "metadata": {},
     "output_type": "display_data"
    }
   ],
   "source": [
    "sensitivity_analysis_irradiance_threshold(df_part2,real_capacity_part2,fig_name='../figs/sensitivity_analysis_irradiance_threshold_part2.pdf')"
   ]
  }
 ],
 "metadata": {
  "kernelspec": {
   "display_name": "thesis",
   "language": "python",
   "name": "thesis"
  },
  "language_info": {
   "codemirror_mode": {
    "name": "ipython",
    "version": 3
   },
   "file_extension": ".py",
   "mimetype": "text/x-python",
   "name": "python",
   "nbconvert_exporter": "python",
   "pygments_lexer": "ipython3",
   "version": "3.10.12"
  }
 },
 "nbformat": 4,
 "nbformat_minor": 2
}
